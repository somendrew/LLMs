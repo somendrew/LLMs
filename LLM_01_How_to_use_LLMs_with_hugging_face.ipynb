{
 "cells": [
  {
   "cell_type": "markdown",
   "metadata": {},
   "source": [
    "# LLMs with Hugging Face\n",
    "In this notebook, we'll take a whirlwind tour of some top applications using Large Language Models (LLMs):\n",
    "\n",
    "* Summarization\n",
    "* Sentiment analysis\n",
    "* Translation\n",
    "* Zero-shot classification\n",
    "* Few-shot learning"
   ]
  },
  {
   "cell_type": "markdown",
   "metadata": {},
   "source": [
    "## Learning Objectives\n",
    "1. Use a variety of existing models for a variety of common applications.\n",
    "2. Understand basic prompt engineering.\n",
    "3. Understand search vs. sampling for LLM inference.\n",
    "4. Get familiar with the main Hugging Face abstractions: datasets, pipelines, tokenizers, and models."
   ]
  },
  {
   "cell_type": "markdown",
   "metadata": {},
   "source": [
    "Libraries : \n",
    "\n",
    "* sacremoses : for the translation model [Helsinki-NLP/opus-mt-en-es]\n",
    "* for English -> Spanish"
   ]
  }
 ],
 "metadata": {
  "language_info": {
   "name": "python"
  }
 },
 "nbformat": 4,
 "nbformat_minor": 2
}
